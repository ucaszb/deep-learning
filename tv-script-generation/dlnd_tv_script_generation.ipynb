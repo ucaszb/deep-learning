{
 "cells": [
  {
   "cell_type": "markdown",
   "metadata": {},
   "source": [
    "# TV Script Generation\n",
    "In this project, you'll generate your own [Simpsons](https://en.wikipedia.org/wiki/The_Simpsons) TV scripts using RNNs.  You'll be using part of the [Simpsons dataset](https://www.kaggle.com/wcukierski/the-simpsons-by-the-data) of scripts from 27 seasons.  The Neural Network you'll build will generate a new TV script for a scene at [Moe's Tavern](https://simpsonswiki.com/wiki/Moe's_Tavern).\n",
    "## Get the Data\n",
    "The data is already provided for you.  You'll be using a subset of the original dataset.  It consists of only the scenes in Moe's Tavern.  This doesn't include other versions of the tavern, like \"Moe's Cavern\", \"Flaming Moe's\", \"Uncle Moe's Family Feed-Bag\", etc.."
   ]
  },
  {
   "cell_type": "code",
   "execution_count": 1,
   "metadata": {
    "collapsed": true
   },
   "outputs": [],
   "source": [
    "\"\"\"\n",
    "DON'T MODIFY ANYTHING IN THIS CELL\n",
    "\"\"\"\n",
    "import helper\n",
    "\n",
    "data_dir = './data/simpsons/moes_tavern_lines.txt'\n",
    "text = helper.load_data(data_dir)\n",
    "# Ignore notice, since we don't use it for analysing the data\n",
    "text = text[81:]"
   ]
  },
  {
   "cell_type": "markdown",
   "metadata": {},
   "source": [
    "## Explore the Data\n",
    "Play around with `view_sentence_range` to view different parts of the data."
   ]
  },
  {
   "cell_type": "code",
   "execution_count": 2,
   "metadata": {},
   "outputs": [
    {
     "name": "stdout",
     "output_type": "stream",
     "text": [
      "Dataset Stats\n",
      "Roughly the number of unique words: 11492\n",
      "Number of scenes: 262\n",
      "Average number of sentences in each scene: 15.248091603053435\n",
      "Number of lines: 4257\n",
      "Average number of words in each line: 11.50434578341555\n",
      "\n",
      "The sentences 0 to 10:\n",
      "Moe_Szyslak: (INTO PHONE) Moe's Tavern. Where the elite meet to drink.\n",
      "Bart_Simpson: Eh, yeah, hello, is Mike there? Last name, Rotch.\n",
      "Moe_Szyslak: (INTO PHONE) Hold on, I'll check. (TO BARFLIES) Mike Rotch. Mike Rotch. Hey, has anybody seen Mike Rotch, lately?\n",
      "Moe_Szyslak: (INTO PHONE) Listen you little puke. One of these days I'm gonna catch you, and I'm gonna carve my name on your back with an ice pick.\n",
      "Moe_Szyslak: What's the matter Homer? You're not your normal effervescent self.\n",
      "Homer_Simpson: I got my problems, Moe. Give me another one.\n",
      "Moe_Szyslak: Homer, hey, you should not drink to forget your problems.\n",
      "Barney_Gumble: Yeah, you should only drink to enhance your social skills.\n",
      "\n",
      "\n"
     ]
    }
   ],
   "source": [
    "view_sentence_range = (0, 10)\n",
    "\n",
    "\"\"\"\n",
    "DON'T MODIFY ANYTHING IN THIS CELL\n",
    "\"\"\"\n",
    "import numpy as np\n",
    "\n",
    "print('Dataset Stats')\n",
    "print('Roughly the number of unique words: {}'.format(len({word: None for word in text.split()})))\n",
    "scenes = text.split('\\n\\n')\n",
    "print('Number of scenes: {}'.format(len(scenes)))\n",
    "sentence_count_scene = [scene.count('\\n') for scene in scenes]\n",
    "print('Average number of sentences in each scene: {}'.format(np.average(sentence_count_scene)))\n",
    "\n",
    "sentences = [sentence for scene in scenes for sentence in scene.split('\\n')]\n",
    "print('Number of lines: {}'.format(len(sentences)))\n",
    "word_count_sentence = [len(sentence.split()) for sentence in sentences]\n",
    "print('Average number of words in each line: {}'.format(np.average(word_count_sentence)))\n",
    "\n",
    "print()\n",
    "print('The sentences {} to {}:'.format(*view_sentence_range))\n",
    "print('\\n'.join(text.split('\\n')[view_sentence_range[0]:view_sentence_range[1]]))"
   ]
  },
  {
   "cell_type": "markdown",
   "metadata": {},
   "source": [
    "## Implement Preprocessing Functions\n",
    "The first thing to do to any dataset is preprocessing.  Implement the following preprocessing functions below:\n",
    "- Lookup Table\n",
    "- Tokenize Punctuation\n",
    "\n",
    "### Lookup Table\n",
    "To create a word embedding, you first need to transform the words to ids.  In this function, create two dictionaries:\n",
    "- Dictionary to go from the words to an id, we'll call `vocab_to_int`\n",
    "- Dictionary to go from the id to word, we'll call `int_to_vocab`\n",
    "\n",
    "Return these dictionaries in the following tuple `(vocab_to_int, int_to_vocab)`"
   ]
  },
  {
   "cell_type": "code",
   "execution_count": 1,
   "metadata": {},
   "outputs": [
    {
     "name": "stdout",
     "output_type": "stream",
     "text": [
      "Tests Passed\n"
     ]
    }
   ],
   "source": [
    "import numpy as np\n",
    "import problem_unittests as tests\n",
    "from collections import Counter\n",
    "\n",
    "def create_lookup_tables(text):\n",
    "    \"\"\"\n",
    "    Create lookup tables for vocabulary\n",
    "    :param text: The text of tv scripts split into words\n",
    "    :return: A tuple of dicts (vocab_to_int, int_to_vocab)\n",
    "    \"\"\"\n",
    "    # TODO: Implement Function\n",
    "    word_counts = Counter(text)\n",
    "    sorted_vocab = sorted(word_counts, key=word_counts.get, reverse=True)\n",
    "    vocab_to_int = {w: i for i, w in enumerate(sorted_vocab)}\n",
    "    int_to_vocab = dict(enumerate(sorted_vocab))\n",
    "    \n",
    "    # reviewer's suggestion\n",
    "    #int_to_vocab = {ii: word for ii, word in enumerate(set(text))}\n",
    "    #vocab_to_int = {word: ii for ii, word in enumerate(set(text))}\n",
    "    return vocab_to_int, int_to_vocab\n",
    "\n",
    "\n",
    "\"\"\"\n",
    "DON'T MODIFY ANYTHING IN THIS CELL THAT IS BELOW THIS LINE\n",
    "\"\"\"\n",
    "tests.test_create_lookup_tables(create_lookup_tables)"
   ]
  },
  {
   "cell_type": "markdown",
   "metadata": {},
   "source": [
    "### Tokenize Punctuation\n",
    "We'll be splitting the script into a word array using spaces as delimiters.  However, punctuations like periods and exclamation marks make it hard for the neural network to distinguish between the word \"bye\" and \"bye!\".\n",
    "\n",
    "Implement the function `token_lookup` to return a dict that will be used to tokenize symbols like \"!\" into \"||Exclamation_Mark||\".  Create a dictionary for the following symbols where the symbol is the key and value is the token:\n",
    "- Period ( . )\n",
    "- Comma ( , )\n",
    "- Quotation Mark ( \" )\n",
    "- Semicolon ( ; )\n",
    "- Exclamation mark ( ! )\n",
    "- Question mark ( ? )\n",
    "- Left Parentheses ( ( )\n",
    "- Right Parentheses ( ) )\n",
    "- Dash ( -- )\n",
    "- Return ( \\n )\n",
    "\n",
    "This dictionary will be used to token the symbols and add the delimiter (space) around it.  This separates the symbols as it's own word, making it easier for the neural network to predict on the next word. Make sure you don't use a token that could be confused as a word. Instead of using the token \"dash\", try using something like \"||dash||\"."
   ]
  },
  {
   "cell_type": "code",
   "execution_count": 9,
   "metadata": {},
   "outputs": [
    {
     "name": "stdout",
     "output_type": "stream",
     "text": [
      "Tests Passed\n"
     ]
    }
   ],
   "source": [
    "def token_lookup():\n",
    "    \"\"\"\n",
    "    Generate a dict to turn punctuation into a token.\n",
    "    :return: Tokenize dictionary where the key is the punctuation and the value is the token\n",
    "    \"\"\"\n",
    "    # TODO: Implement Function\n",
    "    token_dict = {'.': '||Period||', ',': '||Comma||', '\"': '||Quotation_Mark||', ';': '||Semicolon||', '!': '||Exclamation_Mark||',\n",
    "                 '?': '||Question_Mark||', '(': '||Left_Parentheses||', ')': '||Right_Parentheses||', '--': '||Dash||', '\\n': '||Return||'}\n",
    "    return token_dict\n",
    "\n",
    "\"\"\"\n",
    "DON'T MODIFY ANYTHING IN THIS CELL THAT IS BELOW THIS LINE\n",
    "\"\"\"\n",
    "tests.test_tokenize(token_lookup)"
   ]
  },
  {
   "cell_type": "markdown",
   "metadata": {},
   "source": [
    "## Preprocess all the data and save it\n",
    "Running the code cell below will preprocess all the data and save it to file."
   ]
  },
  {
   "cell_type": "code",
   "execution_count": 10,
   "metadata": {
    "collapsed": true
   },
   "outputs": [],
   "source": [
    "\"\"\"\n",
    "DON'T MODIFY ANYTHING IN THIS CELL\n",
    "\"\"\"\n",
    "# Preprocess Training, Validation, and Testing Data\n",
    "helper.preprocess_and_save_data(data_dir, token_lookup, create_lookup_tables)"
   ]
  },
  {
   "cell_type": "markdown",
   "metadata": {},
   "source": [
    "# Check Point\n",
    "This is your first checkpoint. If you ever decide to come back to this notebook or have to restart the notebook, you can start from here. The preprocessed data has been saved to disk."
   ]
  },
  {
   "cell_type": "code",
   "execution_count": 3,
   "metadata": {
    "collapsed": true
   },
   "outputs": [],
   "source": [
    "\"\"\"\n",
    "DON'T MODIFY ANYTHING IN THIS CELL\n",
    "\"\"\"\n",
    "import helper\n",
    "import numpy as np\n",
    "import problem_unittests as tests\n",
    "\n",
    "int_text, vocab_to_int, int_to_vocab, token_dict = helper.load_preprocess()"
   ]
  },
  {
   "cell_type": "markdown",
   "metadata": {},
   "source": [
    "## Build the Neural Network\n",
    "You'll build the components necessary to build a RNN by implementing the following functions below:\n",
    "- get_inputs\n",
    "- get_init_cell\n",
    "- get_embed\n",
    "- build_rnn\n",
    "- build_nn\n",
    "- get_batches\n",
    "\n",
    "### Check the Version of TensorFlow and Access to GPU"
   ]
  },
  {
   "cell_type": "code",
   "execution_count": 4,
   "metadata": {
    "scrolled": true
   },
   "outputs": [
    {
     "name": "stdout",
     "output_type": "stream",
     "text": [
      "TensorFlow Version: 1.3.0\n"
     ]
    },
    {
     "name": "stderr",
     "output_type": "stream",
     "text": [
      "/anaconda/lib/python3.6/site-packages/ipykernel_launcher.py:14: UserWarning: No GPU found. Please use a GPU to train your neural network.\n",
      "  \n"
     ]
    }
   ],
   "source": [
    "\"\"\"\n",
    "DON'T MODIFY ANYTHING IN THIS CELL\n",
    "\"\"\"\n",
    "from distutils.version import LooseVersion\n",
    "import warnings\n",
    "import tensorflow as tf\n",
    "\n",
    "# Check TensorFlow Version\n",
    "assert LooseVersion(tf.__version__) >= LooseVersion('1.0'), 'Please use TensorFlow version 1.0 or newer'\n",
    "print('TensorFlow Version: {}'.format(tf.__version__))\n",
    "\n",
    "# Check for a GPU\n",
    "if not tf.test.gpu_device_name():\n",
    "    warnings.warn('No GPU found. Please use a GPU to train your neural network.')\n",
    "else:\n",
    "    print('Default GPU Device: {}'.format(tf.test.gpu_device_name()))"
   ]
  },
  {
   "cell_type": "markdown",
   "metadata": {},
   "source": [
    "### Input\n",
    "Implement the `get_inputs()` function to create TF Placeholders for the Neural Network.  It should create the following placeholders:\n",
    "- Input text placeholder named \"input\" using the [TF Placeholder](https://www.tensorflow.org/api_docs/python/tf/placeholder) `name` parameter.\n",
    "- Targets placeholder\n",
    "- Learning Rate placeholder\n",
    "\n",
    "Return the placeholders in the following tuple `(Input, Targets, LearningRate)`"
   ]
  },
  {
   "cell_type": "code",
   "execution_count": 3,
   "metadata": {},
   "outputs": [
    {
     "name": "stdout",
     "output_type": "stream",
     "text": [
      "Tests Passed\n"
     ]
    }
   ],
   "source": [
    "def get_inputs():\n",
    "    \"\"\"\n",
    "    Create TF Placeholders for input, targets, and learning rate.\n",
    "    :return: Tuple (input, targets, learning rate)\n",
    "    \"\"\"\n",
    "    # TODO: Implement Function\n",
    "    input_data = tf.placeholder(tf.int32, [None, None], name='input')\n",
    "    targets = tf.placeholder(tf.int32, [None, None], name='targets')\n",
    "    learning_rate = tf.placeholder(tf.float32, name='learning_rate')\n",
    "    return input_data, targets, learning_rate\n",
    "\n",
    "\n",
    "\"\"\"\n",
    "DON'T MODIFY ANYTHING IN THIS CELL THAT IS BELOW THIS LINE\n",
    "\"\"\"\n",
    "tests.test_get_inputs(get_inputs)"
   ]
  },
  {
   "cell_type": "markdown",
   "metadata": {},
   "source": [
    "### Build RNN Cell and Initialize\n",
    "Stack one or more [`BasicLSTMCells`](https://www.tensorflow.org/api_docs/python/tf/contrib/rnn/BasicLSTMCell) in a [`MultiRNNCell`](https://www.tensorflow.org/api_docs/python/tf/contrib/rnn/MultiRNNCell).\n",
    "- The Rnn size should be set using `rnn_size`\n",
    "- Initalize Cell State using the MultiRNNCell's [`zero_state()`](https://www.tensorflow.org/api_docs/python/tf/contrib/rnn/MultiRNNCell#zero_state) function\n",
    "    - Apply the name \"initial_state\" to the initial state using [`tf.identity()`](https://www.tensorflow.org/api_docs/python/tf/identity)\n",
    "\n",
    "Return the cell and initial state in the following tuple `(Cell, InitialState)`"
   ]
  },
  {
   "cell_type": "code",
   "execution_count": 78,
   "metadata": {},
   "outputs": [
    {
     "name": "stdout",
     "output_type": "stream",
     "text": [
      "Tests Passed\n"
     ]
    }
   ],
   "source": [
    "def get_init_cell(batch_size, rnn_size):\n",
    "    \"\"\"\n",
    "    Create an RNN Cell and initialize it.\n",
    "    :param batch_size: Size of batches\n",
    "    :param rnn_size: Size of RNNs\n",
    "    :return: Tuple (cell, initialize state)\n",
    "    \"\"\"\n",
    "    # TODO: Implement Function\n",
    "    cell = tf.contrib.rnn.MultiRNNCell([tf.contrib.rnn.BasicLSTMCell(rnn_size) for i in range(2)])\n",
    "    initial_state = tf.identity(cell.zero_state(batch_size, tf.float32), name='initial_state')\n",
    "    return cell, initial_state\n",
    "\n",
    "\n",
    "\"\"\"\n",
    "DON'T MODIFY ANYTHING IN THIS CELL THAT IS BELOW THIS LINE\n",
    "\"\"\"\n",
    "tests.test_get_init_cell(get_init_cell)"
   ]
  },
  {
   "cell_type": "markdown",
   "metadata": {},
   "source": [
    "### Word Embedding\n",
    "Apply embedding to `input_data` using TensorFlow.  Return the embedded sequence."
   ]
  },
  {
   "cell_type": "code",
   "execution_count": 10,
   "metadata": {},
   "outputs": [
    {
     "name": "stdout",
     "output_type": "stream",
     "text": [
      "Tests Passed\n"
     ]
    }
   ],
   "source": [
    "def get_embed(input_data, vocab_size, embed_dim):\n",
    "    \"\"\"\n",
    "    Create embedding for <input_data>.\n",
    "    :param input_data: TF placeholder for text input.\n",
    "    :param vocab_size: Number of words in vocabulary.\n",
    "    :param embed_dim: Number of embedding dimensions\n",
    "    :return: Embedded input.\n",
    "    \"\"\"\n",
    "    # TODO: Implement Function\n",
    "    embedding = tf.Variable(tf.random_uniform((vocab_size, embed_dim), -1, 1))\n",
    "    embedded = tf.nn.embedding_lookup(embedding, input_data)\n",
    "    \n",
    "    # reviewer's suggestion\n",
    "    #embedded = tf.contrib.layers.embed_sequence(input_data, vocab_size, embed_dim)\n",
    "    return embedded\n",
    "\n",
    "\n",
    "\"\"\"\n",
    "DON'T MODIFY ANYTHING IN THIS CELL THAT IS BELOW THIS LINE\n",
    "\"\"\"\n",
    "tests.test_get_embed(get_embed)"
   ]
  },
  {
   "cell_type": "markdown",
   "metadata": {},
   "source": [
    "### Build RNN\n",
    "You created a RNN Cell in the `get_init_cell()` function.  Time to use the cell to create a RNN.\n",
    "- Build the RNN using the [`tf.nn.dynamic_rnn()`](https://www.tensorflow.org/api_docs/python/tf/nn/dynamic_rnn)\n",
    " - Apply the name \"final_state\" to the final state using [`tf.identity()`](https://www.tensorflow.org/api_docs/python/tf/identity)\n",
    "\n",
    "Return the outputs and final_state state in the following tuple `(Outputs, FinalState)` "
   ]
  },
  {
   "cell_type": "code",
   "execution_count": 31,
   "metadata": {
    "scrolled": true
   },
   "outputs": [
    {
     "name": "stdout",
     "output_type": "stream",
     "text": [
      "Tests Passed\n"
     ]
    }
   ],
   "source": [
    "def build_rnn(cell, inputs):\n",
    "    \"\"\"\n",
    "    Create a RNN using a RNN Cell\n",
    "    :param cell: RNN Cell\n",
    "    :param inputs: Input text data\n",
    "    :return: Tuple (Outputs, Final State)\n",
    "    \"\"\"\n",
    "    # TODO: Implement Function\n",
    "    outputs, final_state = tf.nn.dynamic_rnn(cell, inputs, dtype=tf.float32)\n",
    "    final_state = tf.identity(final_state, name='final_state')\n",
    "    return outputs, final_state\n",
    "\n",
    "\n",
    "\"\"\"\n",
    "DON'T MODIFY ANYTHING IN THIS CELL THAT IS BELOW THIS LINE\n",
    "\"\"\"\n",
    "tests.test_build_rnn(build_rnn)"
   ]
  },
  {
   "cell_type": "markdown",
   "metadata": {},
   "source": [
    "### Build the Neural Network\n",
    "Apply the functions you implemented above to:\n",
    "- Apply embedding to `input_data` using your `get_embed(input_data, vocab_size, embed_dim)` function.\n",
    "- Build RNN using `cell` and your `build_rnn(cell, inputs)` function.\n",
    "- Apply a fully connected layer with a linear activation and `vocab_size` as the number of outputs.\n",
    "\n",
    "Return the logits and final state in the following tuple (Logits, FinalState) "
   ]
  },
  {
   "cell_type": "code",
   "execution_count": 32,
   "metadata": {},
   "outputs": [
    {
     "name": "stdout",
     "output_type": "stream",
     "text": [
      "Tests Passed\n"
     ]
    }
   ],
   "source": [
    "def build_nn(cell, rnn_size, input_data, vocab_size, embed_dim):\n",
    "    \"\"\"\n",
    "    Build part of the neural network\n",
    "    :param cell: RNN cell\n",
    "    :param rnn_size: Size of rnns\n",
    "    :param input_data: Input data\n",
    "    :param vocab_size: Vocabulary size\n",
    "    :param embed_dim: Number of embedding dimensions\n",
    "    :return: Tuple (Logits, FinalState)\n",
    "    \"\"\"\n",
    "    # TODO: Implement Function\n",
    "    embeded = get_embed(input_data, vocab_size, embed_dim)\n",
    "    outputs, final_state = build_rnn(cell, embeded)\n",
    "    logits = tf.contrib.layers.fully_connected(outputs, vocab_size, activation_fn=None)\n",
    "    return logits, final_state\n",
    "\n",
    "\n",
    "\"\"\"\n",
    "DON'T MODIFY ANYTHING IN THIS CELL THAT IS BELOW THIS LINE\n",
    "\"\"\"\n",
    "tests.test_build_nn(build_nn)"
   ]
  },
  {
   "cell_type": "markdown",
   "metadata": {},
   "source": [
    "### Batches\n",
    "Implement `get_batches` to create batches of input and targets using `int_text`.  The batches should be a Numpy array with the shape `(number of batches, 2, batch size, sequence length)`. Each batch contains two elements:\n",
    "- The first element is a single batch of **input** with the shape `[batch size, sequence length]`\n",
    "- The second element is a single batch of **targets** with the shape `[batch size, sequence length]`\n",
    "\n",
    "If you can't fill the last batch with enough data, drop the last batch.\n",
    "\n",
    "For exmple, `get_batches([1, 2, 3, 4, 5, 6, 7, 8, 9, 10, 11, 12, 13, 14, 15, 16, 17, 18, 19, 20], 3, 2)` would return a Numpy array of the following:\n",
    "```\n",
    "[\n",
    "  # First Batch\n",
    "  [\n",
    "    # Batch of Input\n",
    "    [[ 1  2], [ 7  8], [13 14]]\n",
    "    # Batch of targets\n",
    "    [[ 2  3], [ 8  9], [14 15]]\n",
    "  ]\n",
    "\n",
    "  # Second Batch\n",
    "  [\n",
    "    # Batch of Input\n",
    "    [[ 3  4], [ 9 10], [15 16]]\n",
    "    # Batch of targets\n",
    "    [[ 4  5], [10 11], [16 17]]\n",
    "  ]\n",
    "\n",
    "  # Third Batch\n",
    "  [\n",
    "    # Batch of Input\n",
    "    [[ 5  6], [11 12], [17 18]]\n",
    "    # Batch of targets\n",
    "    [[ 6  7], [12 13], [18  1]]\n",
    "  ]\n",
    "]\n",
    "```\n",
    "\n",
    "Notice that the last target value in the last batch is the first input value of the first batch. In this case, `1`. This is a common technique used when creating sequence batches, although it is rather unintuitive."
   ]
  },
  {
   "cell_type": "code",
   "execution_count": 14,
   "metadata": {},
   "outputs": [
    {
     "name": "stdout",
     "output_type": "stream",
     "text": [
      "Tests Passed\n"
     ]
    }
   ],
   "source": [
    "def get_batches(int_text, batch_size, seq_length):\n",
    "    \"\"\"\n",
    "    Return batches of input and target\n",
    "    :param int_text: Text with the words replaced by their ids\n",
    "    :param batch_size: The size of batch\n",
    "    :param seq_length: The length of sequence\n",
    "    :return: Batches as a Numpy array\n",
    "    \"\"\"\n",
    "    # TODO: Implement Function\n",
    "    n_batches = len(int_text) // (batch_size * seq_length)\n",
    "    int_text = int_text[:n_batches * batch_size * seq_length]\n",
    "    int_text = np.array(int_text)\n",
    "    int_text = int_text.reshape((batch_size, -1))\n",
    "    batches = []\n",
    "    for i in range(0, int_text.shape[1], seq_length):\n",
    "        x = int_text[:, i:i + seq_length]\n",
    "        y = np.zeros_like(x)\n",
    "        y[:, :-1] = x[:, 1:]\n",
    "        if i + seq_length == int_text.shape[1]:\n",
    "            y[0:-1, -1] = int_text[1:, 0]\n",
    "            y[-1, -1] = int_text[0, 0]\n",
    "        else:\n",
    "            y[:, -1] = int_text[:, i + seq_length]\n",
    "        batches.append([x, y])\n",
    "    batches = np.array(batches)\n",
    "    return batches\n",
    "\n",
    "    # reviewer's suggestion\n",
    "    #n_batches = int(len(int_text) / (batch_size * seq_length))\n",
    "\n",
    "    # Drop the last few characters to make only full batches\n",
    "    #xdata = np.array(int_text[: n_batches * batch_size * seq_length])\n",
    "    #ydata = np.array(int_text[1: n_batches * batch_size * seq_length] + [int_text[0]])\n",
    "\n",
    "    #x_batches = np.split(xdata.reshape(batch_size, -1), n_batches, 1)\n",
    "    #y_batches = np.split(ydata.reshape(batch_size, -1), n_batches, 1)\n",
    "\n",
    "    #return np.array(list(zip(x_batches, y_batches)))\n",
    "\n",
    "\n",
    "\"\"\"\n",
    "DON'T MODIFY ANYTHING IN THIS CELL THAT IS BELOW THIS LINE\n",
    "\"\"\"\n",
    "tests.test_get_batches(get_batches)"
   ]
  },
  {
   "cell_type": "markdown",
   "metadata": {},
   "source": [
    "## Neural Network Training\n",
    "### Hyperparameters\n",
    "Tune the following parameters:\n",
    "\n",
    "- Set `num_epochs` to the number of epochs.\n",
    "- Set `batch_size` to the batch size.\n",
    "- Set `rnn_size` to the size of the RNNs.\n",
    "- Set `embed_dim` to the size of the embedding.\n",
    "- Set `seq_length` to the length of sequence.\n",
    "- Set `learning_rate` to the learning rate.\n",
    "- Set `show_every_n_batches` to the number of batches the neural network should print progress."
   ]
  },
  {
   "cell_type": "code",
   "execution_count": 82,
   "metadata": {
    "collapsed": true
   },
   "outputs": [],
   "source": [
    "# Number of Epochs\n",
    "num_epochs = 400\n",
    "# Batch Size\n",
    "batch_size = 512\n",
    "# RNN Size\n",
    "rnn_size = 256\n",
    "# Embedding Dimension Size\n",
    "embed_dim = 300\n",
    "# Sequence Length\n",
    "seq_length = 5\n",
    "# Learning Rate\n",
    "learning_rate = 0.001\n",
    "# Show stats for every n number of batches\n",
    "show_every_n_batches = 26\n",
    "\n",
    "\"\"\"\n",
    "DON'T MODIFY ANYTHING IN THIS CELL THAT IS BELOW THIS LINE\n",
    "\"\"\"\n",
    "save_dir = './save'"
   ]
  },
  {
   "cell_type": "markdown",
   "metadata": {},
   "source": [
    "### Build the Graph\n",
    "Build the graph using the neural network you implemented."
   ]
  },
  {
   "cell_type": "code",
   "execution_count": 83,
   "metadata": {
    "collapsed": true
   },
   "outputs": [],
   "source": [
    "\"\"\"\n",
    "DON'T MODIFY ANYTHING IN THIS CELL\n",
    "\"\"\"\n",
    "from tensorflow.contrib import seq2seq\n",
    "\n",
    "train_graph = tf.Graph()\n",
    "with train_graph.as_default():\n",
    "    vocab_size = len(int_to_vocab)\n",
    "    input_text, targets, lr = get_inputs()\n",
    "    input_data_shape = tf.shape(input_text)\n",
    "    cell, initial_state = get_init_cell(input_data_shape[0], rnn_size)\n",
    "    logits, final_state = build_nn(cell, rnn_size, input_text, vocab_size, embed_dim)\n",
    "\n",
    "    # Probabilities for generating words\n",
    "    probs = tf.nn.softmax(logits, name='probs')\n",
    "\n",
    "    # Loss function\n",
    "    cost = seq2seq.sequence_loss(\n",
    "        logits,\n",
    "        targets,\n",
    "        tf.ones([input_data_shape[0], input_data_shape[1]]))\n",
    "\n",
    "    # Optimizer\n",
    "    optimizer = tf.train.AdamOptimizer(lr)\n",
    "\n",
    "    # Gradient Clipping\n",
    "    gradients = optimizer.compute_gradients(cost)\n",
    "    capped_gradients = [(tf.clip_by_value(grad, -1., 1.), var) for grad, var in gradients if grad is not None]\n",
    "    train_op = optimizer.apply_gradients(capped_gradients)"
   ]
  },
  {
   "cell_type": "markdown",
   "metadata": {},
   "source": [
    "## Train\n",
    "Train the neural network on the preprocessed data.  If you have a hard time getting a good loss, check the [forums](https://discussions.udacity.com/) to see if anyone is having the same problem."
   ]
  },
  {
   "cell_type": "code",
   "execution_count": 84,
   "metadata": {
    "scrolled": true
   },
   "outputs": [
    {
     "name": "stdout",
     "output_type": "stream",
     "text": [
      "Epoch   0 Batch    0/26   train_loss = 8.822\n",
      "Epoch   1 Batch    0/26   train_loss = 6.600\n",
      "Epoch   2 Batch    0/26   train_loss = 6.248\n",
      "Epoch   3 Batch    0/26   train_loss = 6.101\n",
      "Epoch   4 Batch    0/26   train_loss = 5.994\n",
      "Epoch   5 Batch    0/26   train_loss = 5.904\n",
      "Epoch   6 Batch    0/26   train_loss = 5.821\n",
      "Epoch   7 Batch    0/26   train_loss = 5.750\n",
      "Epoch   8 Batch    0/26   train_loss = 5.687\n",
      "Epoch   9 Batch    0/26   train_loss = 5.624\n",
      "Epoch  10 Batch    0/26   train_loss = 5.561\n",
      "Epoch  11 Batch    0/26   train_loss = 5.498\n",
      "Epoch  12 Batch    0/26   train_loss = 5.435\n",
      "Epoch  13 Batch    0/26   train_loss = 5.362\n",
      "Epoch  14 Batch    0/26   train_loss = 5.294\n",
      "Epoch  15 Batch    0/26   train_loss = 5.229\n",
      "Epoch  16 Batch    0/26   train_loss = 5.154\n",
      "Epoch  17 Batch    0/26   train_loss = 5.086\n",
      "Epoch  18 Batch    0/26   train_loss = 5.020\n",
      "Epoch  19 Batch    0/26   train_loss = 4.954\n",
      "Epoch  20 Batch    0/26   train_loss = 4.888\n",
      "Epoch  21 Batch    0/26   train_loss = 4.830\n",
      "Epoch  22 Batch    0/26   train_loss = 4.773\n",
      "Epoch  23 Batch    0/26   train_loss = 4.717\n",
      "Epoch  24 Batch    0/26   train_loss = 4.663\n",
      "Epoch  25 Batch    0/26   train_loss = 4.610\n",
      "Epoch  26 Batch    0/26   train_loss = 4.558\n",
      "Epoch  27 Batch    0/26   train_loss = 4.529\n",
      "Epoch  28 Batch    0/26   train_loss = 4.465\n",
      "Epoch  29 Batch    0/26   train_loss = 4.418\n",
      "Epoch  30 Batch    0/26   train_loss = 4.368\n",
      "Epoch  31 Batch    0/26   train_loss = 4.322\n",
      "Epoch  32 Batch    0/26   train_loss = 4.290\n",
      "Epoch  33 Batch    0/26   train_loss = 4.271\n",
      "Epoch  34 Batch    0/26   train_loss = 4.222\n",
      "Epoch  35 Batch    0/26   train_loss = 4.171\n",
      "Epoch  36 Batch    0/26   train_loss = 4.124\n",
      "Epoch  37 Batch    0/26   train_loss = 4.073\n",
      "Epoch  38 Batch    0/26   train_loss = 4.114\n",
      "Epoch  39 Batch    0/26   train_loss = 3.996\n",
      "Epoch  40 Batch    0/26   train_loss = 3.936\n",
      "Epoch  41 Batch    0/26   train_loss = 3.889\n",
      "Epoch  42 Batch    0/26   train_loss = 3.845\n",
      "Epoch  43 Batch    0/26   train_loss = 3.802\n",
      "Epoch  44 Batch    0/26   train_loss = 3.756\n",
      "Epoch  45 Batch    0/26   train_loss = 3.719\n",
      "Epoch  46 Batch    0/26   train_loss = 3.691\n",
      "Epoch  47 Batch    0/26   train_loss = 3.666\n",
      "Epoch  48 Batch    0/26   train_loss = 3.624\n",
      "Epoch  49 Batch    0/26   train_loss = 3.578\n",
      "Epoch  50 Batch    0/26   train_loss = 3.537\n",
      "Epoch  51 Batch    0/26   train_loss = 3.491\n",
      "Epoch  52 Batch    0/26   train_loss = 3.433\n",
      "Epoch  53 Batch    0/26   train_loss = 3.376\n",
      "Epoch  54 Batch    0/26   train_loss = 3.329\n",
      "Epoch  55 Batch    0/26   train_loss = 3.292\n",
      "Epoch  56 Batch    0/26   train_loss = 3.246\n",
      "Epoch  57 Batch    0/26   train_loss = 3.213\n",
      "Epoch  58 Batch    0/26   train_loss = 3.174\n",
      "Epoch  59 Batch    0/26   train_loss = 3.126\n",
      "Epoch  60 Batch    0/26   train_loss = 3.125\n",
      "Epoch  61 Batch    0/26   train_loss = 3.078\n",
      "Epoch  62 Batch    0/26   train_loss = 3.059\n",
      "Epoch  63 Batch    0/26   train_loss = 2.997\n",
      "Epoch  64 Batch    0/26   train_loss = 2.943\n",
      "Epoch  65 Batch    0/26   train_loss = 2.883\n",
      "Epoch  66 Batch    0/26   train_loss = 2.846\n",
      "Epoch  67 Batch    0/26   train_loss = 2.815\n",
      "Epoch  68 Batch    0/26   train_loss = 2.774\n",
      "Epoch  69 Batch    0/26   train_loss = 2.725\n",
      "Epoch  70 Batch    0/26   train_loss = 2.704\n",
      "Epoch  71 Batch    0/26   train_loss = 2.671\n",
      "Epoch  72 Batch    0/26   train_loss = 2.614\n",
      "Epoch  73 Batch    0/26   train_loss = 2.583\n",
      "Epoch  74 Batch    0/26   train_loss = 2.540\n",
      "Epoch  75 Batch    0/26   train_loss = 2.505\n",
      "Epoch  76 Batch    0/26   train_loss = 2.478\n",
      "Epoch  77 Batch    0/26   train_loss = 2.422\n",
      "Epoch  78 Batch    0/26   train_loss = 2.412\n",
      "Epoch  79 Batch    0/26   train_loss = 2.357\n",
      "Epoch  80 Batch    0/26   train_loss = 2.383\n",
      "Epoch  81 Batch    0/26   train_loss = 2.294\n",
      "Epoch  82 Batch    0/26   train_loss = 2.272\n",
      "Epoch  83 Batch    0/26   train_loss = 2.235\n",
      "Epoch  84 Batch    0/26   train_loss = 2.196\n",
      "Epoch  85 Batch    0/26   train_loss = 2.188\n",
      "Epoch  86 Batch    0/26   train_loss = 2.121\n",
      "Epoch  87 Batch    0/26   train_loss = 2.102\n",
      "Epoch  88 Batch    0/26   train_loss = 2.068\n",
      "Epoch  89 Batch    0/26   train_loss = 2.057\n",
      "Epoch  90 Batch    0/26   train_loss = 2.027\n",
      "Epoch  91 Batch    0/26   train_loss = 1.986\n",
      "Epoch  92 Batch    0/26   train_loss = 1.963\n",
      "Epoch  93 Batch    0/26   train_loss = 1.944\n",
      "Epoch  94 Batch    0/26   train_loss = 1.922\n",
      "Epoch  95 Batch    0/26   train_loss = 1.881\n",
      "Epoch  96 Batch    0/26   train_loss = 1.864\n",
      "Epoch  97 Batch    0/26   train_loss = 1.827\n",
      "Epoch  98 Batch    0/26   train_loss = 1.816\n",
      "Epoch  99 Batch    0/26   train_loss = 1.792\n",
      "Epoch 100 Batch    0/26   train_loss = 1.765\n",
      "Epoch 101 Batch    0/26   train_loss = 1.750\n",
      "Epoch 102 Batch    0/26   train_loss = 1.718\n",
      "Epoch 103 Batch    0/26   train_loss = 1.689\n",
      "Epoch 104 Batch    0/26   train_loss = 1.664\n",
      "Epoch 105 Batch    0/26   train_loss = 1.644\n",
      "Epoch 106 Batch    0/26   train_loss = 1.641\n",
      "Epoch 107 Batch    0/26   train_loss = 1.614\n",
      "Epoch 108 Batch    0/26   train_loss = 1.599\n",
      "Epoch 109 Batch    0/26   train_loss = 1.595\n",
      "Epoch 110 Batch    0/26   train_loss = 1.581\n",
      "Epoch 111 Batch    0/26   train_loss = 1.567\n",
      "Epoch 112 Batch    0/26   train_loss = 1.541\n",
      "Epoch 113 Batch    0/26   train_loss = 1.521\n",
      "Epoch 114 Batch    0/26   train_loss = 1.512\n",
      "Epoch 115 Batch    0/26   train_loss = 1.492\n",
      "Epoch 116 Batch    0/26   train_loss = 1.454\n",
      "Epoch 117 Batch    0/26   train_loss = 1.436\n",
      "Epoch 118 Batch    0/26   train_loss = 1.419\n",
      "Epoch 119 Batch    0/26   train_loss = 1.433\n",
      "Epoch 120 Batch    0/26   train_loss = 1.409\n",
      "Epoch 121 Batch    0/26   train_loss = 1.410\n",
      "Epoch 122 Batch    0/26   train_loss = 1.396\n",
      "Epoch 123 Batch    0/26   train_loss = 1.380\n",
      "Epoch 124 Batch    0/26   train_loss = 1.351\n",
      "Epoch 125 Batch    0/26   train_loss = 1.336\n",
      "Epoch 126 Batch    0/26   train_loss = 1.318\n",
      "Epoch 127 Batch    0/26   train_loss = 1.304\n",
      "Epoch 128 Batch    0/26   train_loss = 1.283\n",
      "Epoch 129 Batch    0/26   train_loss = 1.270\n",
      "Epoch 130 Batch    0/26   train_loss = 1.268\n",
      "Epoch 131 Batch    0/26   train_loss = 1.268\n",
      "Epoch 132 Batch    0/26   train_loss = 1.263\n",
      "Epoch 133 Batch    0/26   train_loss = 1.251\n",
      "Epoch 134 Batch    0/26   train_loss = 1.236\n",
      "Epoch 135 Batch    0/26   train_loss = 1.210\n",
      "Epoch 136 Batch    0/26   train_loss = 1.184\n",
      "Epoch 137 Batch    0/26   train_loss = 1.168\n",
      "Epoch 138 Batch    0/26   train_loss = 1.151\n",
      "Epoch 139 Batch    0/26   train_loss = 1.137\n",
      "Epoch 140 Batch    0/26   train_loss = 1.124\n",
      "Epoch 141 Batch    0/26   train_loss = 1.113\n",
      "Epoch 142 Batch    0/26   train_loss = 1.102\n",
      "Epoch 143 Batch    0/26   train_loss = 1.093\n",
      "Epoch 144 Batch    0/26   train_loss = 1.083\n",
      "Epoch 145 Batch    0/26   train_loss = 1.075\n",
      "Epoch 146 Batch    0/26   train_loss = 1.068\n",
      "Epoch 147 Batch    0/26   train_loss = 1.060\n",
      "Epoch 148 Batch    0/26   train_loss = 1.055\n",
      "Epoch 149 Batch    0/26   train_loss = 1.048\n",
      "Epoch 150 Batch    0/26   train_loss = 1.044\n",
      "Epoch 151 Batch    0/26   train_loss = 1.038\n",
      "Epoch 152 Batch    0/26   train_loss = 1.034\n",
      "Epoch 153 Batch    0/26   train_loss = 1.029\n",
      "Epoch 154 Batch    0/26   train_loss = 1.025\n",
      "Epoch 155 Batch    0/26   train_loss = 1.022\n",
      "Epoch 156 Batch    0/26   train_loss = 1.017\n",
      "Epoch 157 Batch    0/26   train_loss = 1.012\n",
      "Epoch 158 Batch    0/26   train_loss = 1.008\n",
      "Epoch 159 Batch    0/26   train_loss = 1.000\n",
      "Epoch 160 Batch    0/26   train_loss = 0.992\n",
      "Epoch 161 Batch    0/26   train_loss = 0.985\n",
      "Epoch 162 Batch    0/26   train_loss = 0.983\n",
      "Epoch 163 Batch    0/26   train_loss = 0.984\n",
      "Epoch 164 Batch    0/26   train_loss = 0.983\n",
      "Epoch 165 Batch    0/26   train_loss = 0.983\n",
      "Epoch 166 Batch    0/26   train_loss = 0.980\n",
      "Epoch 167 Batch    0/26   train_loss = 0.980\n",
      "Epoch 168 Batch    0/26   train_loss = 0.974\n",
      "Epoch 169 Batch    0/26   train_loss = 0.963\n",
      "Epoch 170 Batch    0/26   train_loss = 0.955\n",
      "Epoch 171 Batch    0/26   train_loss = 0.950\n",
      "Epoch 172 Batch    0/26   train_loss = 0.941\n",
      "Epoch 173 Batch    0/26   train_loss = 0.932\n",
      "Epoch 174 Batch    0/26   train_loss = 0.926\n",
      "Epoch 175 Batch    0/26   train_loss = 0.921\n",
      "Epoch 176 Batch    0/26   train_loss = 0.916\n",
      "Epoch 177 Batch    0/26   train_loss = 0.913\n",
      "Epoch 178 Batch    0/26   train_loss = 0.910\n",
      "Epoch 179 Batch    0/26   train_loss = 0.908\n",
      "Epoch 180 Batch    0/26   train_loss = 0.905\n",
      "Epoch 181 Batch    0/26   train_loss = 0.901\n",
      "Epoch 182 Batch    0/26   train_loss = 0.897\n"
     ]
    },
    {
     "name": "stdout",
     "output_type": "stream",
     "text": [
      "Epoch 183 Batch    0/26   train_loss = 0.892\n",
      "Epoch 184 Batch    0/26   train_loss = 0.888\n",
      "Epoch 185 Batch    0/26   train_loss = 0.883\n",
      "Epoch 186 Batch    0/26   train_loss = 0.879\n",
      "Epoch 187 Batch    0/26   train_loss = 0.876\n",
      "Epoch 188 Batch    0/26   train_loss = 0.875\n",
      "Epoch 189 Batch    0/26   train_loss = 0.876\n",
      "Epoch 190 Batch    0/26   train_loss = 0.876\n",
      "Epoch 191 Batch    0/26   train_loss = 0.878\n",
      "Epoch 192 Batch    0/26   train_loss = 0.876\n",
      "Epoch 193 Batch    0/26   train_loss = 0.873\n",
      "Epoch 194 Batch    0/26   train_loss = 0.871\n",
      "Epoch 195 Batch    0/26   train_loss = 0.869\n",
      "Epoch 196 Batch    0/26   train_loss = 0.867\n",
      "Epoch 197 Batch    0/26   train_loss = 0.865\n",
      "Epoch 198 Batch    0/26   train_loss = 0.862\n",
      "Epoch 199 Batch    0/26   train_loss = 0.857\n",
      "Epoch 200 Batch    0/26   train_loss = 0.851\n",
      "Epoch 201 Batch    0/26   train_loss = 0.848\n",
      "Epoch 202 Batch    0/26   train_loss = 0.846\n",
      "Epoch 203 Batch    0/26   train_loss = 0.845\n",
      "Epoch 204 Batch    0/26   train_loss = 0.839\n",
      "Epoch 205 Batch    0/26   train_loss = 0.833\n",
      "Epoch 206 Batch    0/26   train_loss = 0.829\n",
      "Epoch 207 Batch    0/26   train_loss = 0.828\n",
      "Epoch 208 Batch    0/26   train_loss = 0.827\n",
      "Epoch 209 Batch    0/26   train_loss = 0.825\n",
      "Epoch 210 Batch    0/26   train_loss = 0.824\n",
      "Epoch 211 Batch    0/26   train_loss = 0.823\n",
      "Epoch 212 Batch    0/26   train_loss = 0.821\n",
      "Epoch 213 Batch    0/26   train_loss = 0.820\n",
      "Epoch 214 Batch    0/26   train_loss = 0.818\n",
      "Epoch 215 Batch    0/26   train_loss = 0.817\n",
      "Epoch 216 Batch    0/26   train_loss = 0.815\n",
      "Epoch 217 Batch    0/26   train_loss = 0.813\n",
      "Epoch 218 Batch    0/26   train_loss = 0.811\n",
      "Epoch 219 Batch    0/26   train_loss = 0.809\n",
      "Epoch 220 Batch    0/26   train_loss = 0.807\n",
      "Epoch 221 Batch    0/26   train_loss = 0.806\n",
      "Epoch 222 Batch    0/26   train_loss = 0.805\n",
      "Epoch 223 Batch    0/26   train_loss = 0.805\n",
      "Epoch 224 Batch    0/26   train_loss = 0.804\n",
      "Epoch 225 Batch    0/26   train_loss = 0.804\n",
      "Epoch 226 Batch    0/26   train_loss = 0.803\n",
      "Epoch 227 Batch    0/26   train_loss = 0.802\n",
      "Epoch 228 Batch    0/26   train_loss = 0.800\n",
      "Epoch 229 Batch    0/26   train_loss = 0.798\n",
      "Epoch 230 Batch    0/26   train_loss = 0.797\n",
      "Epoch 231 Batch    0/26   train_loss = 0.796\n",
      "Epoch 232 Batch    0/26   train_loss = 0.796\n",
      "Epoch 233 Batch    0/26   train_loss = 0.797\n",
      "Epoch 234 Batch    0/26   train_loss = 0.798\n",
      "Epoch 235 Batch    0/26   train_loss = 0.798\n",
      "Epoch 236 Batch    0/26   train_loss = 0.798\n",
      "Epoch 237 Batch    0/26   train_loss = 0.797\n",
      "Epoch 238 Batch    0/26   train_loss = 0.796\n",
      "Epoch 239 Batch    0/26   train_loss = 0.793\n",
      "Epoch 240 Batch    0/26   train_loss = 0.792\n",
      "Epoch 241 Batch    0/26   train_loss = 0.790\n",
      "Epoch 242 Batch    0/26   train_loss = 0.789\n",
      "Epoch 243 Batch    0/26   train_loss = 0.789\n",
      "Epoch 244 Batch    0/26   train_loss = 0.789\n",
      "Epoch 245 Batch    0/26   train_loss = 0.787\n",
      "Epoch 246 Batch    0/26   train_loss = 0.784\n",
      "Epoch 247 Batch    0/26   train_loss = 0.781\n",
      "Epoch 248 Batch    0/26   train_loss = 0.781\n",
      "Epoch 249 Batch    0/26   train_loss = 0.780\n",
      "Epoch 250 Batch    0/26   train_loss = 0.778\n",
      "Epoch 251 Batch    0/26   train_loss = 0.777\n",
      "Epoch 252 Batch    0/26   train_loss = 0.777\n",
      "Epoch 253 Batch    0/26   train_loss = 0.776\n",
      "Epoch 254 Batch    0/26   train_loss = 0.775\n",
      "Epoch 255 Batch    0/26   train_loss = 0.774\n",
      "Epoch 256 Batch    0/26   train_loss = 0.774\n",
      "Epoch 257 Batch    0/26   train_loss = 0.773\n",
      "Epoch 258 Batch    0/26   train_loss = 0.772\n",
      "Epoch 259 Batch    0/26   train_loss = 0.771\n",
      "Epoch 260 Batch    0/26   train_loss = 0.770\n",
      "Epoch 261 Batch    0/26   train_loss = 0.769\n",
      "Epoch 262 Batch    0/26   train_loss = 0.769\n",
      "Epoch 263 Batch    0/26   train_loss = 0.769\n",
      "Epoch 264 Batch    0/26   train_loss = 0.770\n",
      "Epoch 265 Batch    0/26   train_loss = 0.770\n",
      "Epoch 266 Batch    0/26   train_loss = 0.769\n",
      "Epoch 267 Batch    0/26   train_loss = 0.769\n",
      "Epoch 268 Batch    0/26   train_loss = 0.768\n",
      "Epoch 269 Batch    0/26   train_loss = 0.768\n",
      "Epoch 270 Batch    0/26   train_loss = 0.767\n",
      "Epoch 271 Batch    0/26   train_loss = 0.766\n",
      "Epoch 272 Batch    0/26   train_loss = 0.764\n",
      "Epoch 273 Batch    0/26   train_loss = 0.764\n",
      "Epoch 274 Batch    0/26   train_loss = 0.764\n",
      "Epoch 275 Batch    0/26   train_loss = 0.766\n",
      "Epoch 276 Batch    0/26   train_loss = 0.767\n",
      "Epoch 277 Batch    0/26   train_loss = 0.769\n",
      "Epoch 278 Batch    0/26   train_loss = 0.770\n",
      "Epoch 279 Batch    0/26   train_loss = 0.768\n",
      "Epoch 280 Batch    0/26   train_loss = 0.766\n",
      "Epoch 281 Batch    0/26   train_loss = 0.765\n",
      "Epoch 282 Batch    0/26   train_loss = 0.765\n",
      "Epoch 283 Batch    0/26   train_loss = 0.765\n",
      "Epoch 284 Batch    0/26   train_loss = 0.766\n",
      "Epoch 285 Batch    0/26   train_loss = 0.767\n",
      "Epoch 286 Batch    0/26   train_loss = 0.767\n",
      "Epoch 287 Batch    0/26   train_loss = 0.766\n",
      "Epoch 288 Batch    0/26   train_loss = 0.764\n",
      "Epoch 289 Batch    0/26   train_loss = 0.763\n",
      "Epoch 290 Batch    0/26   train_loss = 0.763\n",
      "Epoch 291 Batch    0/26   train_loss = 0.766\n",
      "Epoch 292 Batch    0/26   train_loss = 0.768\n",
      "Epoch 293 Batch    0/26   train_loss = 0.772\n",
      "Epoch 294 Batch    0/26   train_loss = 0.771\n",
      "Epoch 295 Batch    0/26   train_loss = 0.768\n",
      "Epoch 296 Batch    0/26   train_loss = 0.765\n",
      "Epoch 297 Batch    0/26   train_loss = 0.764\n",
      "Epoch 298 Batch    0/26   train_loss = 0.766\n",
      "Epoch 299 Batch    0/26   train_loss = 0.762\n",
      "Epoch 300 Batch    0/26   train_loss = 0.760\n",
      "Epoch 301 Batch    0/26   train_loss = 0.760\n",
      "Epoch 302 Batch    0/26   train_loss = 0.757\n",
      "Epoch 303 Batch    0/26   train_loss = 0.756\n",
      "Epoch 304 Batch    0/26   train_loss = 0.755\n",
      "Epoch 305 Batch    0/26   train_loss = 0.754\n",
      "Epoch 306 Batch    0/26   train_loss = 0.753\n",
      "Epoch 307 Batch    0/26   train_loss = 0.753\n",
      "Epoch 308 Batch    0/26   train_loss = 0.753\n",
      "Epoch 309 Batch    0/26   train_loss = 0.753\n",
      "Epoch 310 Batch    0/26   train_loss = 0.752\n",
      "Epoch 311 Batch    0/26   train_loss = 0.752\n",
      "Epoch 312 Batch    0/26   train_loss = 0.752\n",
      "Epoch 313 Batch    0/26   train_loss = 0.752\n",
      "Epoch 314 Batch    0/26   train_loss = 0.751\n",
      "Epoch 315 Batch    0/26   train_loss = 0.751\n",
      "Epoch 316 Batch    0/26   train_loss = 0.751\n",
      "Epoch 317 Batch    0/26   train_loss = 0.751\n",
      "Epoch 318 Batch    0/26   train_loss = 0.750\n",
      "Epoch 319 Batch    0/26   train_loss = 0.750\n",
      "Epoch 320 Batch    0/26   train_loss = 0.750\n",
      "Epoch 321 Batch    0/26   train_loss = 0.750\n",
      "Epoch 322 Batch    0/26   train_loss = 0.750\n",
      "Epoch 323 Batch    0/26   train_loss = 0.749\n",
      "Epoch 324 Batch    0/26   train_loss = 0.749\n",
      "Epoch 325 Batch    0/26   train_loss = 0.749\n",
      "Epoch 326 Batch    0/26   train_loss = 0.749\n",
      "Epoch 327 Batch    0/26   train_loss = 0.749\n",
      "Epoch 328 Batch    0/26   train_loss = 0.749\n",
      "Epoch 329 Batch    0/26   train_loss = 0.749\n",
      "Epoch 330 Batch    0/26   train_loss = 0.749\n",
      "Epoch 331 Batch    0/26   train_loss = 0.749\n",
      "Epoch 332 Batch    0/26   train_loss = 0.748\n",
      "Epoch 333 Batch    0/26   train_loss = 0.749\n",
      "Epoch 334 Batch    0/26   train_loss = 0.749\n",
      "Epoch 335 Batch    0/26   train_loss = 0.749\n",
      "Epoch 336 Batch    0/26   train_loss = 0.749\n",
      "Epoch 337 Batch    0/26   train_loss = 0.749\n",
      "Epoch 338 Batch    0/26   train_loss = 0.750\n",
      "Epoch 339 Batch    0/26   train_loss = 0.749\n",
      "Epoch 340 Batch    0/26   train_loss = 0.749\n",
      "Epoch 341 Batch    0/26   train_loss = 0.750\n",
      "Epoch 342 Batch    0/26   train_loss = 0.750\n",
      "Epoch 343 Batch    0/26   train_loss = 0.750\n",
      "Epoch 344 Batch    0/26   train_loss = 0.748\n",
      "Epoch 345 Batch    0/26   train_loss = 0.747\n",
      "Epoch 346 Batch    0/26   train_loss = 0.749\n",
      "Epoch 347 Batch    0/26   train_loss = 0.751\n",
      "Epoch 348 Batch    0/26   train_loss = 0.754\n",
      "Epoch 349 Batch    0/26   train_loss = 0.756\n",
      "Epoch 350 Batch    0/26   train_loss = 0.756\n",
      "Epoch 351 Batch    0/26   train_loss = 0.756\n",
      "Epoch 352 Batch    0/26   train_loss = 0.753\n",
      "Epoch 353 Batch    0/26   train_loss = 0.753\n",
      "Epoch 354 Batch    0/26   train_loss = 0.755\n",
      "Epoch 355 Batch    0/26   train_loss = 0.758\n",
      "Epoch 356 Batch    0/26   train_loss = 0.763\n",
      "Epoch 357 Batch    0/26   train_loss = 0.765\n",
      "Epoch 358 Batch    0/26   train_loss = 0.764\n",
      "Epoch 359 Batch    0/26   train_loss = 0.763\n",
      "Epoch 360 Batch    0/26   train_loss = 0.757\n",
      "Epoch 361 Batch    0/26   train_loss = 0.764\n",
      "Epoch 362 Batch    0/26   train_loss = 0.769\n",
      "Epoch 363 Batch    0/26   train_loss = 0.767\n",
      "Epoch 364 Batch    0/26   train_loss = 0.770\n",
      "Epoch 365 Batch    0/26   train_loss = 0.759\n"
     ]
    },
    {
     "name": "stdout",
     "output_type": "stream",
     "text": [
      "Epoch 366 Batch    0/26   train_loss = 0.757\n",
      "Epoch 367 Batch    0/26   train_loss = 0.750\n",
      "Epoch 368 Batch    0/26   train_loss = 0.748\n",
      "Epoch 369 Batch    0/26   train_loss = 0.746\n",
      "Epoch 370 Batch    0/26   train_loss = 0.745\n",
      "Epoch 371 Batch    0/26   train_loss = 0.744\n",
      "Epoch 372 Batch    0/26   train_loss = 0.743\n",
      "Epoch 373 Batch    0/26   train_loss = 0.743\n",
      "Epoch 374 Batch    0/26   train_loss = 0.742\n",
      "Epoch 375 Batch    0/26   train_loss = 0.742\n",
      "Epoch 376 Batch    0/26   train_loss = 0.742\n",
      "Epoch 377 Batch    0/26   train_loss = 0.742\n",
      "Epoch 378 Batch    0/26   train_loss = 0.742\n",
      "Epoch 379 Batch    0/26   train_loss = 0.741\n",
      "Epoch 380 Batch    0/26   train_loss = 0.741\n",
      "Epoch 381 Batch    0/26   train_loss = 0.741\n",
      "Epoch 382 Batch    0/26   train_loss = 0.741\n",
      "Epoch 383 Batch    0/26   train_loss = 0.741\n",
      "Epoch 384 Batch    0/26   train_loss = 0.741\n",
      "Epoch 385 Batch    0/26   train_loss = 0.741\n",
      "Epoch 386 Batch    0/26   train_loss = 0.741\n",
      "Epoch 387 Batch    0/26   train_loss = 0.740\n",
      "Epoch 388 Batch    0/26   train_loss = 0.740\n",
      "Epoch 389 Batch    0/26   train_loss = 0.740\n",
      "Epoch 390 Batch    0/26   train_loss = 0.740\n",
      "Epoch 391 Batch    0/26   train_loss = 0.740\n",
      "Epoch 392 Batch    0/26   train_loss = 0.740\n",
      "Epoch 393 Batch    0/26   train_loss = 0.740\n",
      "Epoch 394 Batch    0/26   train_loss = 0.740\n",
      "Epoch 395 Batch    0/26   train_loss = 0.740\n",
      "Epoch 396 Batch    0/26   train_loss = 0.740\n",
      "Epoch 397 Batch    0/26   train_loss = 0.739\n",
      "Epoch 398 Batch    0/26   train_loss = 0.739\n",
      "Epoch 399 Batch    0/26   train_loss = 0.739\n",
      "Model Trained and Saved\n"
     ]
    }
   ],
   "source": [
    "\"\"\"\n",
    "DON'T MODIFY ANYTHING IN THIS CELL\n",
    "\"\"\"\n",
    "batches = get_batches(int_text, batch_size, seq_length)\n",
    "\n",
    "with tf.Session(graph=train_graph) as sess:\n",
    "    sess.run(tf.global_variables_initializer())\n",
    "\n",
    "    for epoch_i in range(num_epochs):\n",
    "        state = sess.run(initial_state, {input_text: batches[0][0]})\n",
    "\n",
    "        for batch_i, (x, y) in enumerate(batches):\n",
    "            feed = {\n",
    "                input_text: x,\n",
    "                targets: y,\n",
    "                initial_state: state,\n",
    "                lr: learning_rate}\n",
    "            train_loss, state, _ = sess.run([cost, final_state, train_op], feed)\n",
    "\n",
    "            # Show every <show_every_n_batches> batches\n",
    "            if (epoch_i * len(batches) + batch_i) % show_every_n_batches == 0:\n",
    "                print('Epoch {:>3} Batch {:>4}/{}   train_loss = {:.3f}'.format(\n",
    "                    epoch_i,\n",
    "                    batch_i,\n",
    "                    len(batches),\n",
    "                    train_loss))\n",
    "\n",
    "    # Save Model\n",
    "    saver = tf.train.Saver()\n",
    "    saver.save(sess, save_dir)\n",
    "    print('Model Trained and Saved')"
   ]
  },
  {
   "cell_type": "markdown",
   "metadata": {},
   "source": [
    "## Save Parameters\n",
    "Save `seq_length` and `save_dir` for generating a new TV script."
   ]
  },
  {
   "cell_type": "code",
   "execution_count": 85,
   "metadata": {
    "collapsed": true
   },
   "outputs": [],
   "source": [
    "\"\"\"\n",
    "DON'T MODIFY ANYTHING IN THIS CELL\n",
    "\"\"\"\n",
    "# Save parameters for checkpoint\n",
    "helper.save_params((seq_length, save_dir))"
   ]
  },
  {
   "cell_type": "markdown",
   "metadata": {},
   "source": [
    "# Checkpoint"
   ]
  },
  {
   "cell_type": "code",
   "execution_count": 86,
   "metadata": {
    "collapsed": true
   },
   "outputs": [],
   "source": [
    "\"\"\"\n",
    "DON'T MODIFY ANYTHING IN THIS CELL\n",
    "\"\"\"\n",
    "import tensorflow as tf\n",
    "import numpy as np\n",
    "import helper\n",
    "import problem_unittests as tests\n",
    "\n",
    "_, vocab_to_int, int_to_vocab, token_dict = helper.load_preprocess()\n",
    "seq_length, load_dir = helper.load_params()"
   ]
  },
  {
   "cell_type": "markdown",
   "metadata": {},
   "source": [
    "## Implement Generate Functions\n",
    "### Get Tensors\n",
    "Get tensors from `loaded_graph` using the function [`get_tensor_by_name()`](https://www.tensorflow.org/api_docs/python/tf/Graph#get_tensor_by_name).  Get the tensors using the following names:\n",
    "- \"input:0\"\n",
    "- \"initial_state:0\"\n",
    "- \"final_state:0\"\n",
    "- \"probs:0\"\n",
    "\n",
    "Return the tensors in the following tuple `(InputTensor, InitialStateTensor, FinalStateTensor, ProbsTensor)` "
   ]
  },
  {
   "cell_type": "code",
   "execution_count": 87,
   "metadata": {},
   "outputs": [
    {
     "name": "stdout",
     "output_type": "stream",
     "text": [
      "Tests Passed\n"
     ]
    }
   ],
   "source": [
    "def get_tensors(loaded_graph):\n",
    "    \"\"\"\n",
    "    Get input, initial state, final state, and probabilities tensor from <loaded_graph>\n",
    "    :param loaded_graph: TensorFlow graph loaded from file\n",
    "    :return: Tuple (InputTensor, InitialStateTensor, FinalStateTensor, ProbsTensor)\n",
    "    \"\"\"\n",
    "    # TODO: Implement Function\n",
    "    input_tensor = loaded_graph.get_tensor_by_name(\"input:0\")\n",
    "    initial_state = loaded_graph.get_tensor_by_name(\"initial_state:0\")\n",
    "    final_state = loaded_graph.get_tensor_by_name(\"final_state:0\")\n",
    "    probs = loaded_graph.get_tensor_by_name(\"probs:0\")\n",
    "    return input_tensor, initial_state, final_state, probs\n",
    "\n",
    "\n",
    "\"\"\"\n",
    "DON'T MODIFY ANYTHING IN THIS CELL THAT IS BELOW THIS LINE\n",
    "\"\"\"\n",
    "tests.test_get_tensors(get_tensors)"
   ]
  },
  {
   "cell_type": "markdown",
   "metadata": {},
   "source": [
    "### Choose Word\n",
    "Implement the `pick_word()` function to select the next word using `probabilities`."
   ]
  },
  {
   "cell_type": "code",
   "execution_count": 23,
   "metadata": {},
   "outputs": [
    {
     "name": "stdout",
     "output_type": "stream",
     "text": [
      "Tests Passed\n"
     ]
    }
   ],
   "source": [
    "def pick_word(probabilities, int_to_vocab):\n",
    "    \"\"\"\n",
    "    Pick the next word in the generated text\n",
    "    :param probabilities: Probabilites of the next word\n",
    "    :param int_to_vocab: Dictionary of word ids as the keys and words as the values\n",
    "    :return: String of the predicted word\n",
    "    \"\"\"\n",
    "    # TODO: Implement Function\n",
    "    #max_idx = probabilities.argmax()\n",
    "    #prediction = int_to_vocab[max_idx]\n",
    "    words = [word for word in int_to_vocab.values()]\n",
    "    prediction = np.random.choice(words, 1, p=probabilities)\n",
    "    return prediction[0]\n",
    "\n",
    "\n",
    "\"\"\"\n",
    "DON'T MODIFY ANYTHING IN THIS CELL THAT IS BELOW THIS LINE\n",
    "\"\"\"\n",
    "tests.test_pick_word(pick_word)"
   ]
  },
  {
   "cell_type": "markdown",
   "metadata": {},
   "source": [
    "## Generate TV Script\n",
    "This will generate the TV script for you.  Set `gen_length` to the length of TV script you want to generate."
   ]
  },
  {
   "cell_type": "code",
   "execution_count": 89,
   "metadata": {},
   "outputs": [
    {
     "name": "stdout",
     "output_type": "stream",
     "text": [
      "INFO:tensorflow:Restoring parameters from ./save\n",
      "moe_szyslak:(into phone) listen, no. you're like a computer?... / that's why i can tell him how to you my beer.\n",
      "marge_simpson: i love.\n",
      "homer_simpson: larry you know what this is really that like that says while, uh, see me! it's the real day now out who can i do?\n",
      "moe_szyslak: you know, marge, it'll let me nervous up and the best friend, he was the party for a day. you need a vacation.\n",
      "carl_carlson: geez, moe.\n",
      "seymour_skinner:(clears hands) a just a thing that.(sips idea)\n",
      ")(sympathetic) aw, sweet. you're sorry ain't seven.\n",
      "lenny_leonard: if you get you off my money?\n",
      "moe_szyslak:(clears phone) too, no. thank you!\n",
      "\n",
      "\n",
      "teenage_homer: psst. the most beloved,\" i've got some job that(from her singing) in the ticket.\n",
      "moe_szyslak: yeah, all right, but you're a great.\n",
      "homer_simpson:(reading) jane? you're a\n"
     ]
    }
   ],
   "source": [
    "gen_length = 200\n",
    "# homer_simpson, moe_szyslak, or Barney_Gumble\n",
    "prime_word = 'moe_szyslak'\n",
    "\n",
    "\"\"\"\n",
    "DON'T MODIFY ANYTHING IN THIS CELL THAT IS BELOW THIS LINE\n",
    "\"\"\"\n",
    "loaded_graph = tf.Graph()\n",
    "with tf.Session(graph=loaded_graph) as sess:\n",
    "    # Load saved model\n",
    "    loader = tf.train.import_meta_graph(load_dir + '.meta')\n",
    "    loader.restore(sess, load_dir)\n",
    "\n",
    "    # Get Tensors from loaded model\n",
    "    input_text, initial_state, final_state, probs = get_tensors(loaded_graph)\n",
    "\n",
    "    # Sentences generation setup\n",
    "    gen_sentences = [prime_word + ':']\n",
    "    prev_state = sess.run(initial_state, {input_text: np.array([[1]])})\n",
    "\n",
    "    # Generate sentences\n",
    "    for n in range(gen_length):\n",
    "        # Dynamic Input\n",
    "        dyn_input = [[vocab_to_int[word] for word in gen_sentences[-seq_length:]]]\n",
    "        dyn_seq_length = len(dyn_input[0])\n",
    "\n",
    "        # Get Prediction\n",
    "        probabilities, prev_state = sess.run(\n",
    "            [probs, final_state],\n",
    "            {input_text: dyn_input, initial_state: prev_state})\n",
    "        \n",
    "        pred_word = pick_word(probabilities[dyn_seq_length-1], int_to_vocab)\n",
    "\n",
    "        gen_sentences.append(pred_word)\n",
    "    \n",
    "    # Remove tokens\n",
    "    tv_script = ' '.join(gen_sentences)\n",
    "    for key, token in token_dict.items():\n",
    "        ending = ' ' if key in ['\\n', '(', '\"'] else ''\n",
    "        tv_script = tv_script.replace(' ' + token.lower(), key)\n",
    "    tv_script = tv_script.replace('\\n ', '\\n')\n",
    "    tv_script = tv_script.replace('( ', '(')\n",
    "        \n",
    "    print(tv_script)"
   ]
  },
  {
   "cell_type": "markdown",
   "metadata": {},
   "source": [
    "# The TV Script is Nonsensical\n",
    "It's ok if the TV script doesn't make any sense.  We trained on less than a megabyte of text.  In order to get good results, you'll have to use a smaller vocabulary or get more data.  Luckly there's more data!  As we mentioned in the begging of this project, this is a subset of [another dataset](https://www.kaggle.com/wcukierski/the-simpsons-by-the-data).  We didn't have you train on all the data, because that would take too long.  However, you are free to train your neural network on all the data.  After you complete the project, of course.\n",
    "# Submitting This Project\n",
    "When submitting this project, make sure to run all the cells before saving the notebook. Save the notebook file as \"dlnd_tv_script_generation.ipynb\" and save it as a HTML file under \"File\" -> \"Download as\". Include the \"helper.py\" and \"problem_unittests.py\" files in your submission."
   ]
  }
 ],
 "metadata": {
  "kernelspec": {
   "display_name": "Python 3",
   "language": "python",
   "name": "python3"
  },
  "language_info": {
   "codemirror_mode": {
    "name": "ipython",
    "version": 3
   },
   "file_extension": ".py",
   "mimetype": "text/x-python",
   "name": "python",
   "nbconvert_exporter": "python",
   "pygments_lexer": "ipython3",
   "version": "3.6.1"
  },
  "widgets": {
   "state": {},
   "version": "1.1.2"
  }
 },
 "nbformat": 4,
 "nbformat_minor": 1
}
